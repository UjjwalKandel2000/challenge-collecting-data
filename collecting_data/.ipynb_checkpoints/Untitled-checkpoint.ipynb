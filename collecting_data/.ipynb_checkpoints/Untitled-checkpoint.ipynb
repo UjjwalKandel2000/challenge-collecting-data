{
 "cells": [
  {
   "cell_type": "code",
   "execution_count": 3,
   "metadata": {},
   "outputs": [
    {
     "name": "stdout",
     "output_type": "stream",
     "text": [
      "[{'Locality': 'Antwerp', 'Type': 'House', 'year': '2010'}, {'Locality': 'Brussel', 'Type': 'appartment', 'year': '200'}]\n",
      "2\n",
      "key: Locality ,value: Antwerp\n",
      "key: Type ,value: House\n",
      "key: year ,value: 2010\n",
      "key: Locality ,value: Antwerp\n",
      "key: Type ,value: House\n",
      "key: year ,value: 2010\n"
     ]
    }
   ],
   "source": [
    "\n",
    "import pandas as pd\n",
    "property1 = {\n",
    "  \"Locality\": \"Antwerp\",\n",
    "  \"Type\": \"House\",\n",
    "  \"year\": \"2010\"\n",
    "    \n",
    "}\n",
    "\n",
    "property2 = {\n",
    "  \"Locality\": \"Brussel\",\n",
    "  \"Type\": \"appartment\",\n",
    "  \"year\": \"200\"\n",
    "    \n",
    "}\n",
    "\n",
    "list_of_dict = [property1,property2]\n",
    "print(list_of_dict)\n",
    "print(len(list_of_dict))\n",
    "for dictionary in list_of_dict:\n",
    "    for key in property1.keys():\n",
    "        print(f\"key: {key} ,value: {property1[key]}\")\n",
    "\n",
    "data =pd.DataFrame(list_of_dict)\n"
   ]
  },
  {
   "cell_type": "code",
   "execution_count": 7,
   "metadata": {},
   "outputs": [],
   "source": [
    "import numpy as np\n",
    "import random\n",
    "list_of_housing_data = []\n",
    "for i in range(10000):\n",
    "    area = random.randint(130,250)\n",
    "    sleeping_room = random.randint(2,5)\n",
    "    property_type = \"\"\n",
    "    random_house_price = random.randint(0,1000000)\n",
    "    random_property = random.randint(0,2)\n",
    "    if np.trunc(random_property) == 0:\n",
    "        property_type = \"house\"\n",
    "    else:\n",
    "        property_type = \"appartment\"\n",
    "    housing_data = {\"property_type\":property_type,\n",
    "                    \"price: \":random_house_price,\n",
    "                    \"sleeping_rooms\":sleeping_room,\n",
    "                    \"area\":str(area)+\"m2\"}\n",
    "    list_of_housing_data.append(housing_data)\n",
    "data = list_of_housing_data\n"
   ]
  },
  {
   "cell_type": "code",
   "execution_count": 8,
   "metadata": {},
   "outputs": [],
   "source": [
    "df = pd.DataFrame(data)\n",
    "df.to_csv(\"housing_data.csv\",index = False)\n"
   ]
  },
  {
   "cell_type": "code",
   "execution_count": 9,
   "metadata": {},
   "outputs": [],
   "source": [
    "locality = []\n",
    "type_of_property = []\n",
    "subtype_of_property = []\n",
    "price = []\n",
    "type_of_sale = []\n",
    "number_of_rooms = []\n",
    "area = []\n",
    "fully_equipped_kitchen = []\n",
    "furnished = []\n",
    "open_fire = []\n",
    "terrace = []\n",
    "garden = []\n",
    "surface_of_land = []\n",
    "surface_of_area = []\n",
    "number_of_facades = []\n",
    "swimming_pool = []\n",
    "state_of_the_building = []"
   ]
  },
  {
   "cell_type": "code",
   "execution_count": 10,
   "metadata": {},
   "outputs": [],
   "source": [
    "house_data = pd.read_json(\"test1.json\")"
   ]
  },
  {
   "cell_type": "code",
   "execution_count": null,
   "metadata": {},
   "outputs": [],
   "source": [
    "house_data.columns\n",
    "house"
   ]
  },
  {
   "cell_type": "code",
   "execution_count": null,
   "metadata": {},
   "outputs": [],
   "source": []
  },
  {
   "cell_type": "code",
   "execution_count": null,
   "metadata": {},
   "outputs": [],
   "source": []
  },
  {
   "cell_type": "code",
   "execution_count": null,
   "metadata": {},
   "outputs": [],
   "source": []
  }
 ],
 "metadata": {
  "kernelspec": {
   "display_name": "Python 3",
   "language": "python",
   "name": "python3"
  },
  "language_info": {
   "codemirror_mode": {
    "name": "ipython",
    "version": 3
   },
   "file_extension": ".py",
   "mimetype": "text/x-python",
   "name": "python",
   "nbconvert_exporter": "python",
   "pygments_lexer": "ipython3",
   "version": "3.8.3"
  }
 },
 "nbformat": 4,
 "nbformat_minor": 4
}
