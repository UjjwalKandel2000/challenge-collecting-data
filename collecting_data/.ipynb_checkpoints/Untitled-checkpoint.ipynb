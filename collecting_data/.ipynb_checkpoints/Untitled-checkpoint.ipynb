{
 "cells": [
  {
   "cell_type": "code",
   "execution_count": 1,
   "metadata": {},
   "outputs": [
    {
     "name": "stdout",
     "output_type": "stream",
     "text": [
      "[{'Locality': 'Antwerp', 'Type': 'House', 'year': '2010'}, {'Locality': 'Brussel', 'Type': 'appartment', 'year': '200'}]\n",
      "2\n",
      "key: Locality ,value: Antwerp\n",
      "key: Type ,value: House\n",
      "key: year ,value: 2010\n",
      "key: Locality ,value: Antwerp\n",
      "key: Type ,value: House\n",
      "key: year ,value: 2010\n"
     ]
    },
    {
     "data": {
      "text/html": [
       "<div>\n",
       "<style scoped>\n",
       "    .dataframe tbody tr th:only-of-type {\n",
       "        vertical-align: middle;\n",
       "    }\n",
       "\n",
       "    .dataframe tbody tr th {\n",
       "        vertical-align: top;\n",
       "    }\n",
       "\n",
       "    .dataframe thead th {\n",
       "        text-align: right;\n",
       "    }\n",
       "</style>\n",
       "<table border=\"1\" class=\"dataframe\">\n",
       "  <thead>\n",
       "    <tr style=\"text-align: right;\">\n",
       "      <th></th>\n",
       "      <th>Locality</th>\n",
       "      <th>Type</th>\n",
       "      <th>year</th>\n",
       "    </tr>\n",
       "  </thead>\n",
       "  <tbody>\n",
       "    <tr>\n",
       "      <th>0</th>\n",
       "      <td>Antwerp</td>\n",
       "      <td>House</td>\n",
       "      <td>2010</td>\n",
       "    </tr>\n",
       "    <tr>\n",
       "      <th>1</th>\n",
       "      <td>Brussel</td>\n",
       "      <td>appartment</td>\n",
       "      <td>200</td>\n",
       "    </tr>\n",
       "  </tbody>\n",
       "</table>\n",
       "</div>"
      ],
      "text/plain": [
       "  Locality        Type  year\n",
       "0  Antwerp       House  2010\n",
       "1  Brussel  appartment   200"
      ]
     },
     "execution_count": 1,
     "metadata": {},
     "output_type": "execute_result"
    }
   ],
   "source": [
    "import pandas as pd\n",
    "property1 = {\n",
    "  \"Locality\": \"Antwerp\",\n",
    "  \"Type\": \"House\",\n",
    "  \"year\": \"2010\"\n",
    "    \n",
    "}\n",
    "\n",
    "property2 = {\n",
    "  \"Locality\": \"Brussel\",\n",
    "  \"Type\": \"appartment\",\n",
    "  \"year\": \"200\"\n",
    "    \n",
    "}\n",
    "\n",
    "list_of_dict = [property1,property2]\n",
    "print(list_of_dict)\n",
    "print(len(list_of_dict))\n",
    "for dictionary in list_of_dict:\n",
    "    for key in property1.keys():\n",
    "        print(f\"key: {key} ,value: {property1[key]}\")\n",
    "\n",
    "pd.DataFrame(list_of_dict)"
   ]
  },
  {
   "cell_type": "code",
   "execution_count": null,
   "metadata": {},
   "outputs": [],
   "source": []
  }
 ],
 "metadata": {
  "kernelspec": {
   "display_name": "Python 3",
   "language": "python",
   "name": "python3"
  },
  "language_info": {
   "codemirror_mode": {
    "name": "ipython",
    "version": 3
   },
   "file_extension": ".py",
   "mimetype": "text/x-python",
   "name": "python",
   "nbconvert_exporter": "python",
   "pygments_lexer": "ipython3",
   "version": "3.8.3"
  }
 },
 "nbformat": 4,
 "nbformat_minor": 4
}
